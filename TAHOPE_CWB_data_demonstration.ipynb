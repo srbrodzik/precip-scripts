{
 "cells": [
  {
   "cell_type": "code",
   "execution_count": null,
   "metadata": {
    "collapsed": false
   },
   "outputs": [],
   "source": [
    "#TAHOPE_CWB_data_demonstration\n",
    "#The below demonstrates the elegent way to acess CWB data in TAIHOPE project through python-based tools\n",
    "#( i.e. cwbplot module)\n",
    "#For more detail information, please see:https://cwbplot.readthedocs.io/en/dev/ (under construction)"
   ]
  },
  {
   "cell_type": "code",
   "execution_count": null,
   "metadata": {
    "collapsed": true
   },
   "outputs": [],
   "source": [
    "##import CWB developed module\n",
    "import cwbplot.IO_tools as IO"
   ]
  },
  {
   "cell_type": "code",
   "execution_count": null,
   "metadata": {
    "collapsed": true
   },
   "outputs": [],
   "source": [
    "##import python utility module \n",
    "import numpy as np\n",
    "from mpl_toolkits.basemap import Basemap\n",
    "import matplotlib.pyplot as plt\n",
    "import warnings\n",
    "warnings.filterwarnings('ignore')"
   ]
  },
  {
   "cell_type": "code",
   "execution_count": null,
   "metadata": {
    "collapsed": true
   },
   "outputs": [],
   "source": [
    "# MSC Satellite Data\n",
    "\n",
    "#1. Given MSC data file path, no need for untar.\n",
    "file_twn='DATA/MSC_SAT/2022-03-21_0900.TAIWAN_NWP.VIS.1350.tar.gz'\n",
    "file_asia='DATA/MSC_SAT/2022-03-21_0900.EASTASIA_NWP.IR1.2750.tar.gz'\n",
    "#2 Using MSC_READ function and get data object, the info shows data contain albedo(alb), \n",
    "#   grayscale value(cnt), and brightnes temperature(btp)\n",
    "taiwan_obj=IO.MSC_READ(file_twn)\n",
    "asia_obj = IO.MSC_READ(file_asia)\n",
    "#3 all data info are in this structured object"
   ]
  },
  {
   "cell_type": "code",
   "execution_count": null,
   "metadata": {
    "collapsed": true
   },
   "outputs": [],
   "source": [
    "## Projection for TAWINAN AREA\n",
    "bm_twn = Basemap(projection='tmerc', resolution='i',lat_0=23.7,lon_0=121.0,\\\n",
    "            llcrnrlon=116.1417,llcrnrlat=19.0295,urcrnrlon=126.2109,urcrnrlat=28.2065)\n",
    "\n",
    "## Projection for EASTASIA\n",
    "bm_asia = Basemap(projection='lcc', resolution='i',\\\n",
    "            lat_1=30.,lat_2=60.,lat_0=0,lon_0=128.5,\\\n",
    "            llcrnrlon=102.111,llcrnrlat=-1.503,\\\n",
    "             urcrnrlon=155.270,urcrnrlat= 48.589)"
   ]
  },
  {
   "cell_type": "code",
   "execution_count": null,
   "metadata": {
    "collapsed": true
   },
   "outputs": [],
   "source": [
    "bm_twn.pcolormesh(taiwan_obj.lon ,taiwan_obj.lat,taiwan_obj.data['VIS_ALB'],cmap='binary_r',latlon=True)\n",
    "bm_twn.drawcoastlines(color='w')\n",
    "plt.colorbar()\n",
    "plt.title('TAIWAN AREA ALEBDO for VIS BAND AT 0900 LST')"
   ]
  },
  {
   "cell_type": "code",
   "execution_count": null,
   "metadata": {
    "collapsed": true
   },
   "outputs": [],
   "source": [
    "bm_asia.pcolormesh(asia_obj.lon ,asia_obj.lat,asia_obj.data['IR1_BTP'],cmap='hsv',latlon=True)\n",
    "bm_asia.drawcoastlines(color='w') \n",
    "bm_asia.drawparallels(np.arange(0,60,10) , labels=[1,0,0,0] , fontsize=10,color='w')\n",
    "bm_asia.drawmeridians(np.arange(80,180,10),labels=[0,0,0,1],fontsize=10,color='w')\n",
    "plt.colorbar()\n",
    "plt.title('EASTASIA AREA Bnt for IR BAND AT 0900 LST')"
   ]
  },
  {
   "cell_type": "code",
   "execution_count": null,
   "metadata": {
    "collapsed": true
   },
   "outputs": [],
   "source": [
    "# MAX COMBINE RADAR REFLECTIITY\n",
    "\n",
    "##Note that function \"COMPREF_READ\" can recognized both radar reflectivity and QPE data\n",
    "compress_dat='DATA/RADAR/COMPREF.20220321.0000.gz'\n",
    "out=IO.COMPREF_READ(compress_dat)\n",
    "bm_twn.drawcoastlines()\n",
    "bm_twn.contourf(out.lon,out.lat,out(),**out.cwbcolorbar(),latlon=True)\n",
    "plt.colorbar()\n",
    "print(out)"
   ]
  },
  {
   "cell_type": "code",
   "execution_count": null,
   "metadata": {
    "collapsed": true
   },
   "outputs": [],
   "source": [
    "# RADAR QPE\n",
    "\n",
    "qpe_dat='DATA/qpe/CB_GC_PCP_1H_RAD.20220328.0000.gz'\n",
    "out=IO.COMPREF_READ(qpe_dat)\n",
    "bm_twn.drawcoastlines()\n",
    "bm_twn.contourf(out.lon,out.lat,out(),**out.cwbcolorbar(),latlon=True)\n",
    "plt.colorbar()\n",
    "print(out)"
   ]
  },
  {
   "cell_type": "code",
   "execution_count": null,
   "metadata": {
    "collapsed": true
   },
   "outputs": [],
   "source": [
    "# NUMERICAL MODEL DATA (DMSKEY)\n",
    "\n",
    "def DMSXYDIM(WXX):\n",
    "    ''' function for return xdim,ydim at once\n",
    "        EX: xdim,ydim=DMSXYDIM(\"WF02\")\n",
    "    '''\n",
    "    if WXX=='WD01': xdim,ydim=661,385\n",
    "    if WXX=='WD02': xdim,ydim=1158,673\n",
    "    if WXX=='WF02': xdim,ydim=263,303\n",
    "    if WXX=='WE01': xdim,ydim=450,450\n",
    "    return xdim,ydim\n",
    "\n",
    "def DMSTAIL(WXX):\n",
    "    ''' function for return tail of DMSKEY in string format\n",
    "    '''\n",
    "    domain2grid={\"WD01\":\"0254485\" ,\"WD02\":\"0779334\" ,\"WF02\":\"0079689\",\"WD03\":\"0729136\",\"WE01\":\"0202500\"}\n",
    "    return domain2grid[WXX]\n",
    "\n",
    "file_path='/IFS6/data2/datarfs/c164/test/2022032100000012/'\n",
    "#### 20222032100 means model initial at 2022/03/21 00 UTC\n",
    "#### 0000012 means forecast time is 12 hour\n",
    "dms_lat = np.fromfile(file_path+'X00LATWD02H0779334',dtype='>d',count=-1,sep=\"\") #LAT\n",
    "dms_lon = np.fromfile(file_path+'X00LONWD02H0779334',dtype='>d',count=-1,sep=\"\") #LON\n",
    "dms_u = np.fromfile(file_path+'850200WD02H0779334',dtype='>d',count=-1,sep=\"\")\n",
    "dms_v = np.fromfile(file_path+'850210WD02H0779334',dtype='>d',count=-1,sep=\"\")\n",
    "dms_rh = np.fromfile(file_path+'850510WD02H0779334',dtype='>d',count=-1,sep=\"\")\n",
    "dms_t = np.fromfile(file_path+'850100WD02H0779334',dtype='>d',count=-1,sep=\"\")\n",
    "xdim,ydim=DMSXYDIM(\"WD02\")\n",
    "data_lat= np.float32(np.reshape(dms_lat, (xdim,ydim), order='F'))\n",
    "data_lon= np.float32(np.reshape(dms_lon, (xdim,ydim), order='F'))\n",
    "data_u= np.float32(np.reshape(dms_u, (xdim,ydim), order='F'))\n",
    "data_v= np.float32(np.reshape(dms_v, (xdim,ydim), order='F'))\n",
    "data_rh= np.float32(np.reshape(dms_rh, (xdim,ydim), order='F'))\n",
    "data_t= np.float32(np.reshape(dms_t, (xdim,ydim), order='F'))\n",
    "In [10]:\n"
   ]
  },
  {
   "cell_type": "code",
   "execution_count": null,
   "metadata": {
    "collapsed": true
   },
   "outputs": [],
   "source": [
    "bm = Basemap(projection='tmerc',resolution='i', fix_aspect=True, llcrnrlon=110,\n",
    "             llcrnrlat=15, urcrnrlon=130,urcrnrlat=32,lat_0=45,lon_0=120)\n",
    "bm.drawcoastlines()\n",
    "bm.contourf(data_lon,data_lat,data_t,latlon=True)\n",
    "bm.quiver(data_lon[::10,::10],data_lat[::10,::10],data_u[::10,::10],data_v[::10,::10]\n",
    "          ,scale=500,latlon=True)\n",
    "plt.colorbar()\n",
    "plt.title('Numerical Model result of 12 hr forecast from 2022/3/21 00 UTC \\n Temp vs. UV-wind at 850hPa')\n"
   ]
  }
 ],
 "metadata": {
  "kernelspec": {
   "display_name": "Python 3",
   "language": "python",
   "name": "python3"
  },
  "language_info": {
   "codemirror_mode": {
    "name": "ipython",
    "version": 3
   },
   "file_extension": ".py",
   "mimetype": "text/x-python",
   "name": "python",
   "nbconvert_exporter": "python",
   "pygments_lexer": "ipython3",
   "version": "3.7.3"
  }
 },
 "nbformat": 4,
 "nbformat_minor": 0
}
